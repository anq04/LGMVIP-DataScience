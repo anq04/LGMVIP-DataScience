{
  "nbformat": 4,
  "nbformat_minor": 0,
  "metadata": {
    "colab": {
      "name": "Stock_market_prediction_and_forecasting_using_stacked_LSTM",
      "provenance": [],
      "collapsed_sections": []
    },
    "kernelspec": {
      "name": "python3",
      "display_name": "Python 3"
    },
    "language_info": {
      "name": "python"
    }
  },
  "cells": [
    {
      "cell_type": "markdown",
      "source": [
        "# **TASK 2: Stock market prediction-and-forecasting using stacked LSTM**\n",
        "## LetsGrowMore Virtual Internship Program May 2022\n",
        "\n",
        "### Data Science Intern - Amna Naseem\n",
        "\n"
      ],
      "metadata": {
        "id": "rzFgs7IeNQKB"
      }
    },
    {
      "cell_type": "code",
      "execution_count": 63,
      "metadata": {
        "id": "sTjeS2Ha1B9q"
      },
      "outputs": [],
      "source": [
        "import pandas as pd\n",
        "import numpy as np\n",
        "from sklearn.preprocessing import MinMaxScaler\n",
        "import matplotlib.pyplot as plt\n",
        "import seaborn as sns\n",
        "import math\n",
        "from sklearn.datasets import load_boston\n",
        "import tensorflow as tf\n",
        "import math\n",
        "from sklearn.metrics import mean_squared_error"
      ]
    },
    {
      "cell_type": "code",
      "source": [
        "from tensorflow.keras.models import Sequential\n",
        "from tensorflow.keras.layers import Dense\n",
        "from tensorflow.keras.layers import LSTM"
      ],
      "metadata": {
        "id": "c3ieLq91KdqT"
      },
      "execution_count": 64,
      "outputs": []
    },
    {
      "cell_type": "code",
      "source": [
        "url = \"https://raw.githubusercontent.com/mwitiderrick/stockprice/master/NSE-TATAGLOBAL.csv\"\n",
        "\n",
        "dset = pd.read_csv(url)\n",
        "dset"
      ],
      "metadata": {
        "colab": {
          "base_uri": "https://localhost:8080/",
          "height": 423
        },
        "id": "mdPstsXJ1dLy",
        "outputId": "287ce032-58c7-4efe-f4f4-acd5ba906662"
      },
      "execution_count": 3,
      "outputs": [
        {
          "output_type": "execute_result",
          "data": {
            "text/plain": [
              "            Date    Open    High     Low    Last   Close  \\\n",
              "0     2018-09-28  234.05  235.95  230.20  233.50  233.75   \n",
              "1     2018-09-27  234.55  236.80  231.10  233.80  233.25   \n",
              "2     2018-09-26  240.00  240.00  232.50  235.00  234.25   \n",
              "3     2018-09-25  233.30  236.75  232.00  236.25  236.10   \n",
              "4     2018-09-24  233.55  239.20  230.75  234.00  233.30   \n",
              "...          ...     ...     ...     ...     ...     ...   \n",
              "2030  2010-07-27  117.60  119.50  112.00  118.80  118.65   \n",
              "2031  2010-07-26  120.10  121.00  117.10  117.10  117.60   \n",
              "2032  2010-07-23  121.80  121.95  120.25  120.35  120.65   \n",
              "2033  2010-07-22  120.30  122.00  120.25  120.75  120.90   \n",
              "2034  2010-07-21  122.10  123.00  121.05  121.10  121.55   \n",
              "\n",
              "      Total Trade Quantity  Turnover (Lacs)  \n",
              "0                  3069914          7162.35  \n",
              "1                  5082859         11859.95  \n",
              "2                  2240909          5248.60  \n",
              "3                  2349368          5503.90  \n",
              "4                  3423509          7999.55  \n",
              "...                    ...              ...  \n",
              "2030                586100           694.98  \n",
              "2031                658440           780.01  \n",
              "2032                281312           340.31  \n",
              "2033                293312           355.17  \n",
              "2034                658666           803.56  \n",
              "\n",
              "[2035 rows x 8 columns]"
            ],
            "text/html": [
              "\n",
              "  <div id=\"df-a7ec1eac-afaa-477a-bb3e-53c0964eec88\">\n",
              "    <div class=\"colab-df-container\">\n",
              "      <div>\n",
              "<style scoped>\n",
              "    .dataframe tbody tr th:only-of-type {\n",
              "        vertical-align: middle;\n",
              "    }\n",
              "\n",
              "    .dataframe tbody tr th {\n",
              "        vertical-align: top;\n",
              "    }\n",
              "\n",
              "    .dataframe thead th {\n",
              "        text-align: right;\n",
              "    }\n",
              "</style>\n",
              "<table border=\"1\" class=\"dataframe\">\n",
              "  <thead>\n",
              "    <tr style=\"text-align: right;\">\n",
              "      <th></th>\n",
              "      <th>Date</th>\n",
              "      <th>Open</th>\n",
              "      <th>High</th>\n",
              "      <th>Low</th>\n",
              "      <th>Last</th>\n",
              "      <th>Close</th>\n",
              "      <th>Total Trade Quantity</th>\n",
              "      <th>Turnover (Lacs)</th>\n",
              "    </tr>\n",
              "  </thead>\n",
              "  <tbody>\n",
              "    <tr>\n",
              "      <th>0</th>\n",
              "      <td>2018-09-28</td>\n",
              "      <td>234.05</td>\n",
              "      <td>235.95</td>\n",
              "      <td>230.20</td>\n",
              "      <td>233.50</td>\n",
              "      <td>233.75</td>\n",
              "      <td>3069914</td>\n",
              "      <td>7162.35</td>\n",
              "    </tr>\n",
              "    <tr>\n",
              "      <th>1</th>\n",
              "      <td>2018-09-27</td>\n",
              "      <td>234.55</td>\n",
              "      <td>236.80</td>\n",
              "      <td>231.10</td>\n",
              "      <td>233.80</td>\n",
              "      <td>233.25</td>\n",
              "      <td>5082859</td>\n",
              "      <td>11859.95</td>\n",
              "    </tr>\n",
              "    <tr>\n",
              "      <th>2</th>\n",
              "      <td>2018-09-26</td>\n",
              "      <td>240.00</td>\n",
              "      <td>240.00</td>\n",
              "      <td>232.50</td>\n",
              "      <td>235.00</td>\n",
              "      <td>234.25</td>\n",
              "      <td>2240909</td>\n",
              "      <td>5248.60</td>\n",
              "    </tr>\n",
              "    <tr>\n",
              "      <th>3</th>\n",
              "      <td>2018-09-25</td>\n",
              "      <td>233.30</td>\n",
              "      <td>236.75</td>\n",
              "      <td>232.00</td>\n",
              "      <td>236.25</td>\n",
              "      <td>236.10</td>\n",
              "      <td>2349368</td>\n",
              "      <td>5503.90</td>\n",
              "    </tr>\n",
              "    <tr>\n",
              "      <th>4</th>\n",
              "      <td>2018-09-24</td>\n",
              "      <td>233.55</td>\n",
              "      <td>239.20</td>\n",
              "      <td>230.75</td>\n",
              "      <td>234.00</td>\n",
              "      <td>233.30</td>\n",
              "      <td>3423509</td>\n",
              "      <td>7999.55</td>\n",
              "    </tr>\n",
              "    <tr>\n",
              "      <th>...</th>\n",
              "      <td>...</td>\n",
              "      <td>...</td>\n",
              "      <td>...</td>\n",
              "      <td>...</td>\n",
              "      <td>...</td>\n",
              "      <td>...</td>\n",
              "      <td>...</td>\n",
              "      <td>...</td>\n",
              "    </tr>\n",
              "    <tr>\n",
              "      <th>2030</th>\n",
              "      <td>2010-07-27</td>\n",
              "      <td>117.60</td>\n",
              "      <td>119.50</td>\n",
              "      <td>112.00</td>\n",
              "      <td>118.80</td>\n",
              "      <td>118.65</td>\n",
              "      <td>586100</td>\n",
              "      <td>694.98</td>\n",
              "    </tr>\n",
              "    <tr>\n",
              "      <th>2031</th>\n",
              "      <td>2010-07-26</td>\n",
              "      <td>120.10</td>\n",
              "      <td>121.00</td>\n",
              "      <td>117.10</td>\n",
              "      <td>117.10</td>\n",
              "      <td>117.60</td>\n",
              "      <td>658440</td>\n",
              "      <td>780.01</td>\n",
              "    </tr>\n",
              "    <tr>\n",
              "      <th>2032</th>\n",
              "      <td>2010-07-23</td>\n",
              "      <td>121.80</td>\n",
              "      <td>121.95</td>\n",
              "      <td>120.25</td>\n",
              "      <td>120.35</td>\n",
              "      <td>120.65</td>\n",
              "      <td>281312</td>\n",
              "      <td>340.31</td>\n",
              "    </tr>\n",
              "    <tr>\n",
              "      <th>2033</th>\n",
              "      <td>2010-07-22</td>\n",
              "      <td>120.30</td>\n",
              "      <td>122.00</td>\n",
              "      <td>120.25</td>\n",
              "      <td>120.75</td>\n",
              "      <td>120.90</td>\n",
              "      <td>293312</td>\n",
              "      <td>355.17</td>\n",
              "    </tr>\n",
              "    <tr>\n",
              "      <th>2034</th>\n",
              "      <td>2010-07-21</td>\n",
              "      <td>122.10</td>\n",
              "      <td>123.00</td>\n",
              "      <td>121.05</td>\n",
              "      <td>121.10</td>\n",
              "      <td>121.55</td>\n",
              "      <td>658666</td>\n",
              "      <td>803.56</td>\n",
              "    </tr>\n",
              "  </tbody>\n",
              "</table>\n",
              "<p>2035 rows × 8 columns</p>\n",
              "</div>\n",
              "      <button class=\"colab-df-convert\" onclick=\"convertToInteractive('df-a7ec1eac-afaa-477a-bb3e-53c0964eec88')\"\n",
              "              title=\"Convert this dataframe to an interactive table.\"\n",
              "              style=\"display:none;\">\n",
              "        \n",
              "  <svg xmlns=\"http://www.w3.org/2000/svg\" height=\"24px\"viewBox=\"0 0 24 24\"\n",
              "       width=\"24px\">\n",
              "    <path d=\"M0 0h24v24H0V0z\" fill=\"none\"/>\n",
              "    <path d=\"M18.56 5.44l.94 2.06.94-2.06 2.06-.94-2.06-.94-.94-2.06-.94 2.06-2.06.94zm-11 1L8.5 8.5l.94-2.06 2.06-.94-2.06-.94L8.5 2.5l-.94 2.06-2.06.94zm10 10l.94 2.06.94-2.06 2.06-.94-2.06-.94-.94-2.06-.94 2.06-2.06.94z\"/><path d=\"M17.41 7.96l-1.37-1.37c-.4-.4-.92-.59-1.43-.59-.52 0-1.04.2-1.43.59L10.3 9.45l-7.72 7.72c-.78.78-.78 2.05 0 2.83L4 21.41c.39.39.9.59 1.41.59.51 0 1.02-.2 1.41-.59l7.78-7.78 2.81-2.81c.8-.78.8-2.07 0-2.86zM5.41 20L4 18.59l7.72-7.72 1.47 1.35L5.41 20z\"/>\n",
              "  </svg>\n",
              "      </button>\n",
              "      \n",
              "  <style>\n",
              "    .colab-df-container {\n",
              "      display:flex;\n",
              "      flex-wrap:wrap;\n",
              "      gap: 12px;\n",
              "    }\n",
              "\n",
              "    .colab-df-convert {\n",
              "      background-color: #E8F0FE;\n",
              "      border: none;\n",
              "      border-radius: 50%;\n",
              "      cursor: pointer;\n",
              "      display: none;\n",
              "      fill: #1967D2;\n",
              "      height: 32px;\n",
              "      padding: 0 0 0 0;\n",
              "      width: 32px;\n",
              "    }\n",
              "\n",
              "    .colab-df-convert:hover {\n",
              "      background-color: #E2EBFA;\n",
              "      box-shadow: 0px 1px 2px rgba(60, 64, 67, 0.3), 0px 1px 3px 1px rgba(60, 64, 67, 0.15);\n",
              "      fill: #174EA6;\n",
              "    }\n",
              "\n",
              "    [theme=dark] .colab-df-convert {\n",
              "      background-color: #3B4455;\n",
              "      fill: #D2E3FC;\n",
              "    }\n",
              "\n",
              "    [theme=dark] .colab-df-convert:hover {\n",
              "      background-color: #434B5C;\n",
              "      box-shadow: 0px 1px 3px 1px rgba(0, 0, 0, 0.15);\n",
              "      filter: drop-shadow(0px 1px 2px rgba(0, 0, 0, 0.3));\n",
              "      fill: #FFFFFF;\n",
              "    }\n",
              "  </style>\n",
              "\n",
              "      <script>\n",
              "        const buttonEl =\n",
              "          document.querySelector('#df-a7ec1eac-afaa-477a-bb3e-53c0964eec88 button.colab-df-convert');\n",
              "        buttonEl.style.display =\n",
              "          google.colab.kernel.accessAllowed ? 'block' : 'none';\n",
              "\n",
              "        async function convertToInteractive(key) {\n",
              "          const element = document.querySelector('#df-a7ec1eac-afaa-477a-bb3e-53c0964eec88');\n",
              "          const dataTable =\n",
              "            await google.colab.kernel.invokeFunction('convertToInteractive',\n",
              "                                                     [key], {});\n",
              "          if (!dataTable) return;\n",
              "\n",
              "          const docLinkHtml = 'Like what you see? Visit the ' +\n",
              "            '<a target=\"_blank\" href=https://colab.research.google.com/notebooks/data_table.ipynb>data table notebook</a>'\n",
              "            + ' to learn more about interactive tables.';\n",
              "          element.innerHTML = '';\n",
              "          dataTable['output_type'] = 'display_data';\n",
              "          await google.colab.output.renderOutput(dataTable, element);\n",
              "          const docLink = document.createElement('div');\n",
              "          docLink.innerHTML = docLinkHtml;\n",
              "          element.appendChild(docLink);\n",
              "        }\n",
              "      </script>\n",
              "    </div>\n",
              "  </div>\n",
              "  "
            ]
          },
          "metadata": {},
          "execution_count": 3
        }
      ]
    },
    {
      "cell_type": "code",
      "source": [
        "dset.describe()"
      ],
      "metadata": {
        "colab": {
          "base_uri": "https://localhost:8080/",
          "height": 300
        },
        "id": "1UvzOIfX1j0G",
        "outputId": "3991682f-4c3b-4bda-a72f-8654b81f27ca"
      },
      "execution_count": 4,
      "outputs": [
        {
          "output_type": "execute_result",
          "data": {
            "text/plain": [
              "              Open         High          Low         Last       Close  \\\n",
              "count  2035.000000  2035.000000  2035.000000  2035.000000  2035.00000   \n",
              "mean    149.713735   151.992826   147.293931   149.474251   149.45027   \n",
              "std      48.664509    49.413109    47.931958    48.732570    48.71204   \n",
              "min      81.100000    82.800000    80.000000    81.000000    80.95000   \n",
              "25%     120.025000   122.100000   118.300000   120.075000   120.05000   \n",
              "50%     141.500000   143.400000   139.600000   141.100000   141.25000   \n",
              "75%     157.175000   159.400000   155.150000   156.925000   156.90000   \n",
              "max     327.700000   328.750000   321.650000   325.950000   325.75000   \n",
              "\n",
              "       Total Trade Quantity  Turnover (Lacs)  \n",
              "count          2.035000e+03      2035.000000  \n",
              "mean           2.335681e+06      3899.980565  \n",
              "std            2.091778e+06      4570.767877  \n",
              "min            3.961000e+04        37.040000  \n",
              "25%            1.146444e+06      1427.460000  \n",
              "50%            1.783456e+06      2512.030000  \n",
              "75%            2.813594e+06      4539.015000  \n",
              "max            2.919102e+07     55755.080000  "
            ],
            "text/html": [
              "\n",
              "  <div id=\"df-a8e32923-026e-467a-9074-625f8956de52\">\n",
              "    <div class=\"colab-df-container\">\n",
              "      <div>\n",
              "<style scoped>\n",
              "    .dataframe tbody tr th:only-of-type {\n",
              "        vertical-align: middle;\n",
              "    }\n",
              "\n",
              "    .dataframe tbody tr th {\n",
              "        vertical-align: top;\n",
              "    }\n",
              "\n",
              "    .dataframe thead th {\n",
              "        text-align: right;\n",
              "    }\n",
              "</style>\n",
              "<table border=\"1\" class=\"dataframe\">\n",
              "  <thead>\n",
              "    <tr style=\"text-align: right;\">\n",
              "      <th></th>\n",
              "      <th>Open</th>\n",
              "      <th>High</th>\n",
              "      <th>Low</th>\n",
              "      <th>Last</th>\n",
              "      <th>Close</th>\n",
              "      <th>Total Trade Quantity</th>\n",
              "      <th>Turnover (Lacs)</th>\n",
              "    </tr>\n",
              "  </thead>\n",
              "  <tbody>\n",
              "    <tr>\n",
              "      <th>count</th>\n",
              "      <td>2035.000000</td>\n",
              "      <td>2035.000000</td>\n",
              "      <td>2035.000000</td>\n",
              "      <td>2035.000000</td>\n",
              "      <td>2035.00000</td>\n",
              "      <td>2.035000e+03</td>\n",
              "      <td>2035.000000</td>\n",
              "    </tr>\n",
              "    <tr>\n",
              "      <th>mean</th>\n",
              "      <td>149.713735</td>\n",
              "      <td>151.992826</td>\n",
              "      <td>147.293931</td>\n",
              "      <td>149.474251</td>\n",
              "      <td>149.45027</td>\n",
              "      <td>2.335681e+06</td>\n",
              "      <td>3899.980565</td>\n",
              "    </tr>\n",
              "    <tr>\n",
              "      <th>std</th>\n",
              "      <td>48.664509</td>\n",
              "      <td>49.413109</td>\n",
              "      <td>47.931958</td>\n",
              "      <td>48.732570</td>\n",
              "      <td>48.71204</td>\n",
              "      <td>2.091778e+06</td>\n",
              "      <td>4570.767877</td>\n",
              "    </tr>\n",
              "    <tr>\n",
              "      <th>min</th>\n",
              "      <td>81.100000</td>\n",
              "      <td>82.800000</td>\n",
              "      <td>80.000000</td>\n",
              "      <td>81.000000</td>\n",
              "      <td>80.95000</td>\n",
              "      <td>3.961000e+04</td>\n",
              "      <td>37.040000</td>\n",
              "    </tr>\n",
              "    <tr>\n",
              "      <th>25%</th>\n",
              "      <td>120.025000</td>\n",
              "      <td>122.100000</td>\n",
              "      <td>118.300000</td>\n",
              "      <td>120.075000</td>\n",
              "      <td>120.05000</td>\n",
              "      <td>1.146444e+06</td>\n",
              "      <td>1427.460000</td>\n",
              "    </tr>\n",
              "    <tr>\n",
              "      <th>50%</th>\n",
              "      <td>141.500000</td>\n",
              "      <td>143.400000</td>\n",
              "      <td>139.600000</td>\n",
              "      <td>141.100000</td>\n",
              "      <td>141.25000</td>\n",
              "      <td>1.783456e+06</td>\n",
              "      <td>2512.030000</td>\n",
              "    </tr>\n",
              "    <tr>\n",
              "      <th>75%</th>\n",
              "      <td>157.175000</td>\n",
              "      <td>159.400000</td>\n",
              "      <td>155.150000</td>\n",
              "      <td>156.925000</td>\n",
              "      <td>156.90000</td>\n",
              "      <td>2.813594e+06</td>\n",
              "      <td>4539.015000</td>\n",
              "    </tr>\n",
              "    <tr>\n",
              "      <th>max</th>\n",
              "      <td>327.700000</td>\n",
              "      <td>328.750000</td>\n",
              "      <td>321.650000</td>\n",
              "      <td>325.950000</td>\n",
              "      <td>325.75000</td>\n",
              "      <td>2.919102e+07</td>\n",
              "      <td>55755.080000</td>\n",
              "    </tr>\n",
              "  </tbody>\n",
              "</table>\n",
              "</div>\n",
              "      <button class=\"colab-df-convert\" onclick=\"convertToInteractive('df-a8e32923-026e-467a-9074-625f8956de52')\"\n",
              "              title=\"Convert this dataframe to an interactive table.\"\n",
              "              style=\"display:none;\">\n",
              "        \n",
              "  <svg xmlns=\"http://www.w3.org/2000/svg\" height=\"24px\"viewBox=\"0 0 24 24\"\n",
              "       width=\"24px\">\n",
              "    <path d=\"M0 0h24v24H0V0z\" fill=\"none\"/>\n",
              "    <path d=\"M18.56 5.44l.94 2.06.94-2.06 2.06-.94-2.06-.94-.94-2.06-.94 2.06-2.06.94zm-11 1L8.5 8.5l.94-2.06 2.06-.94-2.06-.94L8.5 2.5l-.94 2.06-2.06.94zm10 10l.94 2.06.94-2.06 2.06-.94-2.06-.94-.94-2.06-.94 2.06-2.06.94z\"/><path d=\"M17.41 7.96l-1.37-1.37c-.4-.4-.92-.59-1.43-.59-.52 0-1.04.2-1.43.59L10.3 9.45l-7.72 7.72c-.78.78-.78 2.05 0 2.83L4 21.41c.39.39.9.59 1.41.59.51 0 1.02-.2 1.41-.59l7.78-7.78 2.81-2.81c.8-.78.8-2.07 0-2.86zM5.41 20L4 18.59l7.72-7.72 1.47 1.35L5.41 20z\"/>\n",
              "  </svg>\n",
              "      </button>\n",
              "      \n",
              "  <style>\n",
              "    .colab-df-container {\n",
              "      display:flex;\n",
              "      flex-wrap:wrap;\n",
              "      gap: 12px;\n",
              "    }\n",
              "\n",
              "    .colab-df-convert {\n",
              "      background-color: #E8F0FE;\n",
              "      border: none;\n",
              "      border-radius: 50%;\n",
              "      cursor: pointer;\n",
              "      display: none;\n",
              "      fill: #1967D2;\n",
              "      height: 32px;\n",
              "      padding: 0 0 0 0;\n",
              "      width: 32px;\n",
              "    }\n",
              "\n",
              "    .colab-df-convert:hover {\n",
              "      background-color: #E2EBFA;\n",
              "      box-shadow: 0px 1px 2px rgba(60, 64, 67, 0.3), 0px 1px 3px 1px rgba(60, 64, 67, 0.15);\n",
              "      fill: #174EA6;\n",
              "    }\n",
              "\n",
              "    [theme=dark] .colab-df-convert {\n",
              "      background-color: #3B4455;\n",
              "      fill: #D2E3FC;\n",
              "    }\n",
              "\n",
              "    [theme=dark] .colab-df-convert:hover {\n",
              "      background-color: #434B5C;\n",
              "      box-shadow: 0px 1px 3px 1px rgba(0, 0, 0, 0.15);\n",
              "      filter: drop-shadow(0px 1px 2px rgba(0, 0, 0, 0.3));\n",
              "      fill: #FFFFFF;\n",
              "    }\n",
              "  </style>\n",
              "\n",
              "      <script>\n",
              "        const buttonEl =\n",
              "          document.querySelector('#df-a8e32923-026e-467a-9074-625f8956de52 button.colab-df-convert');\n",
              "        buttonEl.style.display =\n",
              "          google.colab.kernel.accessAllowed ? 'block' : 'none';\n",
              "\n",
              "        async function convertToInteractive(key) {\n",
              "          const element = document.querySelector('#df-a8e32923-026e-467a-9074-625f8956de52');\n",
              "          const dataTable =\n",
              "            await google.colab.kernel.invokeFunction('convertToInteractive',\n",
              "                                                     [key], {});\n",
              "          if (!dataTable) return;\n",
              "\n",
              "          const docLinkHtml = 'Like what you see? Visit the ' +\n",
              "            '<a target=\"_blank\" href=https://colab.research.google.com/notebooks/data_table.ipynb>data table notebook</a>'\n",
              "            + ' to learn more about interactive tables.';\n",
              "          element.innerHTML = '';\n",
              "          dataTable['output_type'] = 'display_data';\n",
              "          await google.colab.output.renderOutput(dataTable, element);\n",
              "          const docLink = document.createElement('div');\n",
              "          docLink.innerHTML = docLinkHtml;\n",
              "          element.appendChild(docLink);\n",
              "        }\n",
              "      </script>\n",
              "    </div>\n",
              "  </div>\n",
              "  "
            ]
          },
          "metadata": {},
          "execution_count": 4
        }
      ]
    },
    {
      "cell_type": "code",
      "source": [
        "dset.dtypes"
      ],
      "metadata": {
        "colab": {
          "base_uri": "https://localhost:8080/"
        },
        "id": "l5rffedj1vK8",
        "outputId": "4cf3061f-a3b9-4fd1-ca52-eeda32362a1e"
      },
      "execution_count": 5,
      "outputs": [
        {
          "output_type": "execute_result",
          "data": {
            "text/plain": [
              "Date                     object\n",
              "Open                    float64\n",
              "High                    float64\n",
              "Low                     float64\n",
              "Last                    float64\n",
              "Close                   float64\n",
              "Total Trade Quantity      int64\n",
              "Turnover (Lacs)         float64\n",
              "dtype: object"
            ]
          },
          "metadata": {},
          "execution_count": 5
        }
      ]
    },
    {
      "cell_type": "code",
      "source": [
        "dset.info()"
      ],
      "metadata": {
        "colab": {
          "base_uri": "https://localhost:8080/"
        },
        "id": "RqY6zjRA12te",
        "outputId": "49dddc68-72b2-4dc5-95ec-460dba8f10b4"
      },
      "execution_count": 6,
      "outputs": [
        {
          "output_type": "stream",
          "name": "stdout",
          "text": [
            "<class 'pandas.core.frame.DataFrame'>\n",
            "RangeIndex: 2035 entries, 0 to 2034\n",
            "Data columns (total 8 columns):\n",
            " #   Column                Non-Null Count  Dtype  \n",
            "---  ------                --------------  -----  \n",
            " 0   Date                  2035 non-null   object \n",
            " 1   Open                  2035 non-null   float64\n",
            " 2   High                  2035 non-null   float64\n",
            " 3   Low                   2035 non-null   float64\n",
            " 4   Last                  2035 non-null   float64\n",
            " 5   Close                 2035 non-null   float64\n",
            " 6   Total Trade Quantity  2035 non-null   int64  \n",
            " 7   Turnover (Lacs)       2035 non-null   float64\n",
            "dtypes: float64(6), int64(1), object(1)\n",
            "memory usage: 127.3+ KB\n"
          ]
        }
      ]
    },
    {
      "cell_type": "code",
      "source": [
        "plt.figure(figsize=(10, 6))\n",
        "plt.hist(dset['Total Trade Quantity'],bins=50, ec='black', color='#8786a3')\n",
        "plt.show()"
      ],
      "metadata": {
        "colab": {
          "base_uri": "https://localhost:8080/",
          "height": 387
        },
        "id": "klMazIQE193a",
        "outputId": "34b3cde5-f506-4e02-8a00-bf297a3c59af"
      },
      "execution_count": 7,
      "outputs": [
        {
          "output_type": "display_data",
          "data": {
            "text/plain": [
              "<Figure size 720x432 with 1 Axes>"
            ],
            "image/png": "[encoded data removed]"
          },
          "metadata": {
            "needs_background": "light"
          }
        }
      ]
    },
    {
      "cell_type": "code",
      "source": [
        "plt.figure(figsize=(10, 6))\n",
        "plt.hist(dset['High'],bins=50, ec='black', color='#8196f3')\n",
        "plt.show()"
      ],
      "metadata": {
        "colab": {
          "base_uri": "https://localhost:8080/",
          "height": 374
        },
        "id": "VXwoi8Ln2APy",
        "outputId": "f7a18ba2-9054-4e7b-e3fd-0c1394c00872"
      },
      "execution_count": 8,
      "outputs": [
        {
          "output_type": "display_data",
          "data": {
            "text/plain": [
              "<Figure size 720x432 with 1 Axes>"
            ],
            "image/png": "[encoded data removed]"
          },
          "metadata": {
            "needs_background": "light"
          }
        }
      ]
    },
    {
      "cell_type": "code",
      "source": [
        "plt.figure(figsize=(10, 6))\n",
        "plt.hist(dset['Low'],bins=50, ec='black', color='#8166e3')\n",
        "plt.show()"
      ],
      "metadata": {
        "colab": {
          "base_uri": "https://localhost:8080/",
          "height": 374
        },
        "id": "XHyJbH4z2Ekx",
        "outputId": "cc8a151b-de4a-4e3a-e3e9-e4faef3fe97a"
      },
      "execution_count": 9,
      "outputs": [
        {
          "output_type": "display_data",
          "data": {
            "text/plain": [
              "<Figure size 720x432 with 1 Axes>"
            ],
            "image/png": "[encoded data removed]"
          },
          "metadata": {
            "needs_background": "light"
          }
        }
      ]
    },
    {
      "cell_type": "code",
      "source": [
        "plt.figure(figsize=(18, 6))\n",
        "dset.plot()"
      ],
      "metadata": {
        "colab": {
          "base_uri": "https://localhost:8080/",
          "height": 313
        },
        "id": "kbzZIhze2W9Q",
        "outputId": "42a712fe-1188-419a-925c-baea120a2dc1"
      },
      "execution_count": 10,
      "outputs": [
        {
          "output_type": "execute_result",
          "data": {
            "text/plain": [
              "<matplotlib.axes._subplots.AxesSubplot at 0x7fba99900dd0>"
            ]
          },
          "metadata": {},
          "execution_count": 10
        },
        {
          "output_type": "display_data",
          "data": {
            "text/plain": [
              "<Figure size 1296x432 with 0 Axes>"
            ]
          },
          "metadata": {}
        },
        {
          "output_type": "display_data",
          "data": {
            "text/plain": [
              "<Figure size 432x288 with 1 Axes>"
            ],
            "image/png": "[encoded data removed]"
          },
          "metadata": {
            "needs_background": "light"
          }
        }
      ]
    },
    {
      "cell_type": "code",
      "source": [
        "dataset1=dset.reset_index()['Close']\n"
      ],
      "metadata": {
        "id": "5fPiaGaT2e7a"
      },
      "execution_count": 66,
      "outputs": []
    },
    {
      "cell_type": "code",
      "source": [
        " dataset1.plot()"
      ],
      "metadata": {
        "colab": {
          "base_uri": "https://localhost:8080/",
          "height": 283
        },
        "id": "Q_8OSZ9z2iy0",
        "outputId": "0c5f0445-244f-44b9-ad87-142a9c0f6746"
      },
      "execution_count": 67,
      "outputs": [
        {
          "output_type": "execute_result",
          "data": {
            "text/plain": [
              "<matplotlib.axes._subplots.AxesSubplot at 0x7fba8ba32590>"
            ]
          },
          "metadata": {},
          "execution_count": 67
        },
        {
          "output_type": "display_data",
          "data": {
            "text/plain": [
              "<Figure size 432x288 with 1 Axes>"
            ],
            "image/png": "[encoded data removed]"
          },
          "metadata": {
            "needs_background": "light"
          }
        }
      ]
    },
    {
      "cell_type": "code",
      "source": [
        "dataset1"
      ],
      "metadata": {
        "colab": {
          "base_uri": "https://localhost:8080/"
        },
        "id": "AlLZPSBg2nzF",
        "outputId": "ed8352a0-be26-488f-d6ec-7667b044ce04"
      },
      "execution_count": 68,
      "outputs": [
        {
          "output_type": "execute_result",
          "data": {
            "text/plain": [
              "0       233.75\n",
              "1       233.25\n",
              "2       234.25\n",
              "3       236.10\n",
              "4       233.30\n",
              "         ...  \n",
              "2030    118.65\n",
              "2031    117.60\n",
              "2032    120.65\n",
              "2033    120.90\n",
              "2034    121.55\n",
              "Name: Close, Length: 2035, dtype: float64"
            ]
          },
          "metadata": {},
          "execution_count": 68
        }
      ]
    },
    {
      "cell_type": "code",
      "source": [
        "dataset1.shape"
      ],
      "metadata": {
        "colab": {
          "base_uri": "https://localhost:8080/"
        },
        "id": "tg4din_i6Qis",
        "outputId": "b78779a5-398d-4fbf-80fd-6cc8736062e5"
      },
      "execution_count": 69,
      "outputs": [
        {
          "output_type": "execute_result",
          "data": {
            "text/plain": [
              "(2035,)"
            ]
          },
          "metadata": {},
          "execution_count": 69
        }
      ]
    },
    {
      "cell_type": "code",
      "source": [
        "scale=MinMaxScaler(feature_range=(0,1))\n",
        "dset1=scale.fit_transform(np.array(dataset1).reshape(-1,1))"
      ],
      "metadata": {
        "id": "d4tJStWi2pWJ"
      },
      "execution_count": 70,
      "outputs": []
    },
    {
      "cell_type": "code",
      "source": [
        "trainset_size=int(len(dataset1)*0.70)\n",
        "test_size=len(dataset1)-trainset_size\n",
        "train_data,test_data=dset1[0:trainset_size,:],dset1[trainset_size:len(dataset1),:1]"
      ],
      "metadata": {
        "id": "pTC4dmpM2prw"
      },
      "execution_count": 71,
      "outputs": []
    },
    {
      "cell_type": "code",
      "source": [
        "trainset_size,test_size"
      ],
      "metadata": {
        "colab": {
          "base_uri": "https://localhost:8080/"
        },
        "id": "AwbJxQB_2puL",
        "outputId": "7095986b-e56a-4cc9-b63b-7f238fdd352c"
      },
      "execution_count": 30,
      "outputs": [
        {
          "output_type": "execute_result",
          "data": {
            "text/plain": [
              "(1424, 611)"
            ]
          },
          "metadata": {},
          "execution_count": 30
        }
      ]
    },
    {
      "cell_type": "code",
      "source": [
        "def dataset_creation(data,step_size=1):\n",
        "    x,y = [],[]\n",
        "\n",
        "    \n",
        "    for i in range(len(data)-step_size-1): \n",
        "        x.append(data[i:(i+step_size), 0])\n",
        "        y.append(data[i + step_size, 0])\n",
        "        return np.array(x), np.array(y)\n"
      ],
      "metadata": {
        "id": "IuGNqNqD3w6z"
      },
      "execution_count": 73,
      "outputs": []
    },
    {
      "cell_type": "code",
      "source": [
        "step =100\n",
        "x_train, y_train = dataset_creation(train_data, step)\n",
        "x_test, y_test = dataset_creation(test_data, step)\n"
      ],
      "metadata": {
        "id": "ljMYC5juLbRH"
      },
      "execution_count": 74,
      "outputs": []
    },
    {
      "cell_type": "code",
      "source": [
        "x_train,y_train"
      ],
      "metadata": {
        "colab": {
          "base_uri": "https://localhost:8080/"
        },
        "id": "bAAuW9OS7VIQ",
        "outputId": "06d72bfa-dbda-4bf7-e7ae-5e6bc2efea3a"
      },
      "execution_count": 75,
      "outputs": [
        {
          "output_type": "execute_result",
          "data": {
            "text/plain": [
              "(array([[0.62418301, 0.62214052, 0.62622549, 0.63378268, 0.62234477,\n",
              "         0.62765523, 0.62888072, 0.62949346, 0.63582516, 0.625     ,\n",
              "         0.57883987, 0.55167484, 0.57618464, 0.58006536, 0.57230392,\n",
              "         0.57781863, 0.58312908, 0.63623366, 0.62642974, 0.63337418,\n",
              "         0.62745098, 0.62254902, 0.6376634 , 0.61294935, 0.63112745,\n",
              "         0.65196078, 0.67075163, 0.66196895, 0.64705882, 0.63970588,\n",
              "         0.62745098, 0.62336601, 0.63868464, 0.63480392, 0.63991013,\n",
              "         0.64767157, 0.62785948, 0.63112745, 0.63194444, 0.67790033,\n",
              "         0.65870098, 0.65890523, 0.64603758, 0.63705065, 0.67544935,\n",
              "         0.66319444, 0.6439951 , 0.62152778, 0.64419935, 0.68198529,\n",
              "         0.6629902 , 0.72691993, 0.75265523, 0.77144608, 0.79166667,\n",
              "         0.79370915, 0.75714869, 0.77736928, 0.80208333, 0.81719771,\n",
              "         0.7495915 , 0.76960784, 0.74754902, 0.75428922, 0.76143791,\n",
              "         0.74979575, 0.73999183, 0.72406046, 0.73488562, 0.76021242,\n",
              "         0.79411765, 0.78104575, 0.80412582, 0.77062908, 0.76245915,\n",
              "         0.74652778, 0.75980392, 0.76041667, 0.75490196, 0.74673203,\n",
              "         0.7120098 , 0.74468954, 0.7689951 , 0.74979575, 0.72120098,\n",
              "         0.73406863, 0.72263072, 0.70894608, 0.69138072, 0.67892157,\n",
              "         0.66421569, 0.6689134 , 0.68035131, 0.65420752, 0.66053922,\n",
              "         0.71466503, 0.84375   , 0.83455882, 0.86213235, 0.85273693]]),\n",
              " array([0.87111928]))"
            ]
          },
          "metadata": {},
          "execution_count": 75
        }
      ]
    },
    {
      "cell_type": "code",
      "source": [
        "x_test,y_test"
      ],
      "metadata": {
        "colab": {
          "base_uri": "https://localhost:8080/"
        },
        "id": "q--Q4jy07eJK",
        "outputId": "925a7e6d-3c22-43fd-ab2f-10f15ff74e9a"
      },
      "execution_count": 76,
      "outputs": [
        {
          "output_type": "execute_result",
          "data": {
            "text/plain": [
              "(array([[0.32148693, 0.32352941, 0.3255719 , 0.32638889, 0.33496732,\n",
              "         0.34395425, 0.3441585 , 0.34599673, 0.35866013, 0.35580065,\n",
              "         0.37214052, 0.36294935, 0.3754085 , 0.36315359, 0.34640523,\n",
              "         0.34579248, 0.34844771, 0.35784314, 0.34722222, 0.33353758,\n",
              "         0.33537582, 0.33680556, 0.33680556, 0.32271242, 0.32638889,\n",
              "         0.3188317 , 0.33986928, 0.37765523, 0.3999183 , 0.36968954,\n",
              "         0.35886438, 0.35927288, 0.35294118, 0.32107843, 0.31413399,\n",
              "         0.31740196, 0.31597222, 0.32209967, 0.28267974, 0.28492647,\n",
              "         0.27389706, 0.28778595, 0.30187908, 0.31045752, 0.32128268,\n",
              "         0.31454248, 0.33129085, 0.33292484, 0.32802288, 0.32291667,\n",
              "         0.32802288, 0.32312092, 0.30718954, 0.29595588, 0.30473856,\n",
              "         0.28288399, 0.28982843, 0.30412582, 0.26429739, 0.25285948,\n",
              "         0.20710784, 0.20261438, 0.19566993, 0.19546569, 0.20465686,\n",
              "         0.18974673, 0.19934641, 0.1942402 , 0.21527778, 0.21629902,\n",
              "         0.2183415 , 0.21997549, 0.22222222, 0.22753268, 0.22732843,\n",
              "         0.22324346, 0.21527778, 0.20690359, 0.20200163, 0.19955065,\n",
              "         0.20159314, 0.1807598 , 0.19178922, 0.19403595, 0.19566993,\n",
              "         0.20445261, 0.20772059, 0.21221405, 0.21956699, 0.21629902,\n",
              "         0.21629902, 0.22140523, 0.2120098 , 0.20547386, 0.20077614,\n",
              "         0.1997549 , 0.2001634 , 0.20506536, 0.2005719 , 0.18831699]]),\n",
              " array([0.18811275]))"
            ]
          },
          "metadata": {},
          "execution_count": 76
        }
      ]
    },
    {
      "cell_type": "code",
      "source": [
        "x_train =x_train.reshape(x_train.shape[0],x_train.shape[1] , 1)\n",
        "x_test = x_test.reshape(x_test.shape[0],x_test.shape[1] , 1)\n",
        "x_train.shape,x_test.shape"
      ],
      "metadata": {
        "colab": {
          "base_uri": "https://localhost:8080/"
        },
        "id": "-I5xxE0_4qB3",
        "outputId": "930a40a1-af90-4c7a-ccc5-295ddb0ccfca"
      },
      "execution_count": 77,
      "outputs": [
        {
          "output_type": "execute_result",
          "data": {
            "text/plain": [
              "((1, 100, 1), (1, 100, 1))"
            ]
          },
          "metadata": {},
          "execution_count": 77
        }
      ]
    },
    {
      "cell_type": "code",
      "source": [
        "modl=Sequential()\n",
        "modl.add(LSTM(50,return_sequences=True,input_shape=(100,1)))\n",
        "modl.add(LSTM(50,return_sequences=True))\n",
        "modl.add(LSTM(50))\n",
        "modl.add(Dense(1))\n",
        "modl.compile(loss='mean_squared_error',optimizer='adam')"
      ],
      "metadata": {
        "id": "Nbd0MnSG4qO3"
      },
      "execution_count": 78,
      "outputs": []
    },
    {
      "cell_type": "code",
      "source": [
        "modl.summary()"
      ],
      "metadata": {
        "colab": {
          "base_uri": "https://localhost:8080/"
        },
        "id": "3a-jXqQk7aW6",
        "outputId": "f788b230-dce7-44d9-cc34-531014948b0a"
      },
      "execution_count": 79,
      "outputs": [
        {
          "output_type": "stream",
          "name": "stdout",
          "text": [
            "Model: \"sequential_3\"\n",
            "_________________________________________________________________\n",
            " Layer (type)                Output Shape              Param #   \n",
            "=================================================================\n",
            " lstm_9 (LSTM)               (None, 100, 50)           10400     \n",
            "                                                                 \n",
            " lstm_10 (LSTM)              (None, 100, 50)           20200     \n",
            "                                                                 \n",
            " lstm_11 (LSTM)              (None, 50)                20200     \n",
            "                                                                 \n",
            " dense_3 (Dense)             (None, 1)                 51        \n",
            "                                                                 \n",
            "=================================================================\n",
            "Total params: 50,851\n",
            "Trainable params: 50,851\n",
            "Non-trainable params: 0\n",
            "_________________________________________________________________\n"
          ]
        }
      ]
    },
    {
      "cell_type": "code",
      "source": [
        "modl.fit(x_train,y_train,validation_data=(x_test,y_test),epochs=80,batch_size=64,verbose=1)"
      ],
      "metadata": {
        "colab": {
          "base_uri": "https://localhost:8080/"
        },
        "id": "nZMhW6cxmnFb",
        "outputId": "2b3c70a4-ef02-4c51-f361-6ea0762cb75d"
      },
      "execution_count": 80,
      "outputs": [
        {
          "output_type": "stream",
          "name": "stdout",
          "text": [
            "Epoch 1/80\n",
            "1/1 [==============================] - 7s 7s/step - loss: 0.7795 - val_loss: 0.0245\n",
            "Epoch 2/80\n",
            "1/1 [==============================] - 0s 126ms/step - loss: 0.6385 - val_loss: 0.0130\n",
            "Epoch 3/80\n",
            "1/1 [==============================] - 0s 128ms/step - loss: 0.4953 - val_loss: 0.0038\n",
            "Epoch 4/80\n",
            "1/1 [==============================] - 0s 142ms/step - loss: 0.3450 - val_loss: 2.6974e-05\n",
            "Epoch 5/80\n",
            "1/1 [==============================] - 0s 143ms/step - loss: 0.1930 - val_loss: 0.0090\n",
            "Epoch 6/80\n",
            "1/1 [==============================] - 0s 149ms/step - loss: 0.0617 - val_loss: 0.0467\n",
            "Epoch 7/80\n",
            "1/1 [==============================] - 0s 127ms/step - loss: 6.9014e-05 - val_loss: 0.1293\n",
            "Epoch 8/80\n",
            "1/1 [==============================] - 0s 130ms/step - loss: 0.0586 - val_loss: 0.1927\n",
            "Epoch 9/80\n",
            "1/1 [==============================] - 0s 130ms/step - loss: 0.1181 - val_loss: 0.1967\n",
            "Epoch 10/80\n",
            "1/1 [==============================] - 0s 126ms/step - loss: 0.1048 - val_loss: 0.1648\n",
            "Epoch 11/80\n",
            "1/1 [==============================] - 0s 128ms/step - loss: 0.0596 - val_loss: 0.1242\n",
            "Epoch 12/80\n",
            "1/1 [==============================] - 0s 141ms/step - loss: 0.0203 - val_loss: 0.0894\n",
            "Epoch 13/80\n",
            "1/1 [==============================] - 0s 140ms/step - loss: 0.0018 - val_loss: 0.0645\n",
            "Epoch 14/80\n",
            "1/1 [==============================] - 0s 125ms/step - loss: 0.0019 - val_loss: 0.0485\n",
            "Epoch 15/80\n",
            "1/1 [==============================] - 0s 126ms/step - loss: 0.0119 - val_loss: 0.0394\n",
            "Epoch 16/80\n",
            "1/1 [==============================] - 0s 127ms/step - loss: 0.0236 - val_loss: 0.0351\n",
            "Epoch 17/80\n",
            "1/1 [==============================] - 0s 129ms/step - loss: 0.0319 - val_loss: 0.0346\n",
            "Epoch 18/80\n",
            "1/1 [==============================] - 0s 127ms/step - loss: 0.0350 - val_loss: 0.0371\n",
            "Epoch 19/80\n",
            "1/1 [==============================] - 0s 126ms/step - loss: 0.0328 - val_loss: 0.0427\n",
            "Epoch 20/80\n",
            "1/1 [==============================] - 0s 145ms/step - loss: 0.0267 - val_loss: 0.0513\n",
            "Epoch 21/80\n",
            "1/1 [==============================] - 0s 126ms/step - loss: 0.0185 - val_loss: 0.0632\n",
            "Epoch 22/80\n",
            "1/1 [==============================] - 0s 129ms/step - loss: 0.0103 - val_loss: 0.0783\n",
            "Epoch 23/80\n",
            "1/1 [==============================] - 0s 130ms/step - loss: 0.0038 - val_loss: 0.0962\n",
            "Epoch 24/80\n",
            "1/1 [==============================] - 0s 133ms/step - loss: 4.2254e-04 - val_loss: 0.1158\n",
            "Epoch 25/80\n",
            "1/1 [==============================] - 0s 127ms/step - loss: 3.7555e-04 - val_loss: 0.1350\n",
            "Epoch 26/80\n",
            "1/1 [==============================] - 0s 125ms/step - loss: 0.0030 - val_loss: 0.1514\n",
            "Epoch 27/80\n",
            "1/1 [==============================] - 0s 129ms/step - loss: 0.0066 - val_loss: 0.1628\n",
            "Epoch 28/80\n",
            "1/1 [==============================] - 0s 142ms/step - loss: 0.0095 - val_loss: 0.1678\n",
            "Epoch 29/80\n",
            "1/1 [==============================] - 0s 127ms/step - loss: 0.0105 - val_loss: 0.1663\n",
            "Epoch 30/80\n",
            "1/1 [==============================] - 0s 125ms/step - loss: 0.0094 - val_loss: 0.1596\n",
            "Epoch 31/80\n",
            "1/1 [==============================] - 0s 138ms/step - loss: 0.0068 - val_loss: 0.1495\n",
            "Epoch 32/80\n",
            "1/1 [==============================] - 0s 141ms/step - loss: 0.0038 - val_loss: 0.1379\n",
            "Epoch 33/80\n",
            "1/1 [==============================] - 0s 129ms/step - loss: 0.0015 - val_loss: 0.1264\n",
            "Epoch 34/80\n",
            "1/1 [==============================] - 0s 134ms/step - loss: 1.8997e-04 - val_loss: 0.1161\n",
            "Epoch 35/80\n",
            "1/1 [==============================] - 0s 146ms/step - loss: 7.9354e-05 - val_loss: 0.1078\n",
            "Epoch 36/80\n",
            "1/1 [==============================] - 0s 127ms/step - loss: 8.0153e-04 - val_loss: 0.1017\n",
            "Epoch 37/80\n",
            "1/1 [==============================] - 0s 136ms/step - loss: 0.0019 - val_loss: 0.0979\n",
            "Epoch 38/80\n",
            "1/1 [==============================] - 0s 128ms/step - loss: 0.0028 - val_loss: 0.0963\n",
            "Epoch 39/80\n",
            "1/1 [==============================] - 0s 133ms/step - loss: 0.0034 - val_loss: 0.0969\n",
            "Epoch 40/80\n",
            "1/1 [==============================] - 0s 122ms/step - loss: 0.0034 - val_loss: 0.0995\n",
            "Epoch 41/80\n",
            "1/1 [==============================] - 0s 124ms/step - loss: 0.0028 - val_loss: 0.1038\n",
            "Epoch 42/80\n",
            "1/1 [==============================] - 0s 137ms/step - loss: 0.0020 - val_loss: 0.1095\n",
            "Epoch 43/80\n",
            "1/1 [==============================] - 0s 136ms/step - loss: 0.0011 - val_loss: 0.1163\n",
            "Epoch 44/80\n",
            "1/1 [==============================] - 0s 131ms/step - loss: 4.1669e-04 - val_loss: 0.1236\n",
            "Epoch 45/80\n",
            "1/1 [==============================] - 0s 126ms/step - loss: 4.4236e-05 - val_loss: 0.1309\n",
            "Epoch 46/80\n",
            "1/1 [==============================] - 0s 126ms/step - loss: 4.2592e-05 - val_loss: 0.1374\n",
            "Epoch 47/80\n",
            "1/1 [==============================] - 0s 126ms/step - loss: 3.2373e-04 - val_loss: 0.1427\n",
            "Epoch 48/80\n",
            "1/1 [==============================] - 0s 127ms/step - loss: 7.1898e-04 - val_loss: 0.1462\n",
            "Epoch 49/80\n",
            "1/1 [==============================] - 0s 130ms/step - loss: 0.0010 - val_loss: 0.1476\n",
            "Epoch 50/80\n",
            "1/1 [==============================] - 0s 140ms/step - loss: 0.0012 - val_loss: 0.1471\n",
            "Epoch 51/80\n",
            "1/1 [==============================] - 0s 132ms/step - loss: 0.0011 - val_loss: 0.1449\n",
            "Epoch 52/80\n",
            "1/1 [==============================] - 0s 132ms/step - loss: 8.0402e-04 - val_loss: 0.1413\n",
            "Epoch 53/80\n",
            "1/1 [==============================] - 0s 128ms/step - loss: 4.6666e-04 - val_loss: 0.1371\n",
            "Epoch 54/80\n",
            "1/1 [==============================] - 0s 129ms/step - loss: 1.8115e-04 - val_loss: 0.1327\n",
            "Epoch 55/80\n",
            "1/1 [==============================] - 0s 139ms/step - loss: 2.3509e-05 - val_loss: 0.1285\n",
            "Epoch 56/80\n",
            "1/1 [==============================] - 0s 125ms/step - loss: 1.1317e-05 - val_loss: 0.1250\n",
            "Epoch 57/80\n",
            "1/1 [==============================] - 0s 123ms/step - loss: 1.0922e-04 - val_loss: 0.1223\n",
            "Epoch 58/80\n",
            "1/1 [==============================] - 0s 142ms/step - loss: 2.5179e-04 - val_loss: 0.1207\n",
            "Epoch 59/80\n",
            "1/1 [==============================] - 0s 123ms/step - loss: 3.7168e-04 - val_loss: 0.1202\n",
            "Epoch 60/80\n",
            "1/1 [==============================] - 0s 126ms/step - loss: 4.2272e-04 - val_loss: 0.1207\n",
            "Epoch 61/80\n",
            "1/1 [==============================] - 0s 125ms/step - loss: 3.9141e-04 - val_loss: 0.1221\n",
            "Epoch 62/80\n",
            "1/1 [==============================] - 0s 126ms/step - loss: 2.9580e-04 - val_loss: 0.1243\n",
            "Epoch 63/80\n",
            "1/1 [==============================] - 0s 123ms/step - loss: 1.7413e-04 - val_loss: 0.1269\n",
            "Epoch 64/80\n",
            "1/1 [==============================] - 0s 126ms/step - loss: 6.8376e-05 - val_loss: 0.1298\n",
            "Epoch 65/80\n",
            "1/1 [==============================] - 0s 123ms/step - loss: 8.8066e-06 - val_loss: 0.1326\n",
            "Epoch 66/80\n",
            "1/1 [==============================] - 0s 137ms/step - loss: 4.6415e-06 - val_loss: 0.1351\n",
            "Epoch 67/80\n",
            "1/1 [==============================] - 0s 148ms/step - loss: 4.3481e-05 - val_loss: 0.1370\n",
            "Epoch 68/80\n",
            "1/1 [==============================] - 0s 124ms/step - loss: 9.8969e-05 - val_loss: 0.1382\n",
            "Epoch 69/80\n",
            "1/1 [==============================] - 0s 143ms/step - loss: 1.4292e-04 - val_loss: 0.1385\n",
            "Epoch 70/80\n",
            "1/1 [==============================] - 0s 127ms/step - loss: 1.5662e-04 - val_loss: 0.1381\n",
            "Epoch 71/80\n",
            "1/1 [==============================] - 0s 126ms/step - loss: 1.3674e-04 - val_loss: 0.1371\n",
            "Epoch 72/80\n",
            "1/1 [==============================] - 0s 126ms/step - loss: 9.4130e-05 - val_loss: 0.1356\n",
            "Epoch 73/80\n",
            "1/1 [==============================] - 0s 140ms/step - loss: 4.7091e-05 - val_loss: 0.1338\n",
            "Epoch 74/80\n",
            "1/1 [==============================] - 0s 127ms/step - loss: 1.2670e-05 - val_loss: 0.1321\n",
            "Epoch 75/80\n",
            "1/1 [==============================] - 0s 124ms/step - loss: 3.6859e-08 - val_loss: 0.1305\n",
            "Epoch 76/80\n",
            "1/1 [==============================] - 0s 139ms/step - loss: 8.2490e-06 - val_loss: 0.1292\n",
            "Epoch 77/80\n",
            "1/1 [==============================] - 0s 125ms/step - loss: 2.8428e-05 - val_loss: 0.1283\n",
            "Epoch 78/80\n",
            "1/1 [==============================] - 0s 122ms/step - loss: 4.8716e-05 - val_loss: 0.1280\n",
            "Epoch 79/80\n",
            "1/1 [==============================] - 0s 124ms/step - loss: 5.9483e-05 - val_loss: 0.1281\n",
            "Epoch 80/80\n",
            "1/1 [==============================] - 0s 131ms/step - loss: 5.6756e-05 - val_loss: 0.1286\n"
          ]
        },
        {
          "output_type": "execute_result",
          "data": {
            "text/plain": [
              "<keras.callbacks.History at 0x7fba89cc1890>"
            ]
          },
          "metadata": {},
          "execution_count": 80
        }
      ]
    },
    {
      "cell_type": "code",
      "source": [
        "history=modl.history.history['loss']\n",
        "plt.plot(history)\n",
        "plt.show()"
      ],
      "metadata": {
        "colab": {
          "base_uri": "https://localhost:8080/",
          "height": 265
        },
        "id": "R2doOCUem_NU",
        "outputId": "250b0b75-de90-4cab-a513-9a6dac3550ee"
      },
      "execution_count": 81,
      "outputs": [
        {
          "output_type": "display_data",
          "data": {
            "text/plain": [
              "<Figure size 432x288 with 1 Axes>"
            ],
            "image/png": "[encoded data removed]"
          },
          "metadata": {
            "needs_background": "light"
          }
        }
      ]
    },
    {
      "cell_type": "code",
      "source": [
        "predict_train=modl.predict(x_train)\n",
        "predict_test= modl.predict(x_test)"
      ],
      "metadata": {
        "id": "G9s3FI6LnzPo"
      },
      "execution_count": 82,
      "outputs": []
    },
    {
      "cell_type": "code",
      "source": [
        "math.sqrt(mean_squared_error(y_train,predict_train))"
      ],
      "metadata": {
        "colab": {
          "base_uri": "https://localhost:8080/"
        },
        "id": "NDBCFKaz9g5E",
        "outputId": "3e91c4c9-7cb4-495f-c59d-dd4c17cf011e"
      },
      "execution_count": 83,
      "outputs": [
        {
          "output_type": "execute_result",
          "data": {
            "text/plain": [
              "0.006543358556585277"
            ]
          },
          "metadata": {},
          "execution_count": 83
        }
      ]
    },
    {
      "cell_type": "code",
      "source": [
        "math.sqrt(mean_squared_error(y_train,predict_train))"
      ],
      "metadata": {
        "colab": {
          "base_uri": "https://localhost:8080/"
        },
        "id": "mYKrdAiTIuw_",
        "outputId": "0695816b-cbd3-47ba-8024-6bb70f536320"
      },
      "execution_count": 84,
      "outputs": [
        {
          "output_type": "execute_result",
          "data": {
            "text/plain": [
              "0.006543358556585277"
            ]
          },
          "metadata": {},
          "execution_count": 84
        }
      ]
    },
    {
      "cell_type": "code",
      "source": [
        "predict_train = scale.inverse_transform(predict_train)\n",
        "predict_test = scale.inverse_transform(predict_test)"
      ],
      "metadata": {
        "id": "UMoWnnOC8GL-"
      },
      "execution_count": 85,
      "outputs": []
    },
    {
      "cell_type": "code",
      "source": [
        "step = 100\n",
        "train_val = np.empty_like(dset1)\n",
        "train_val[:,:] = np.nan\n",
        "train_val[step:len(predict_train)+step, :] = predict_train\n",
        "\n",
        "test_val = np.empty_like(dset1)\n",
        "test_val[:,:] = np.nan\n",
        "test_val[len(predict_train) + (step * 2)+1:len(dset1)-1, :] = predict_test"
      ],
      "metadata": {
        "id": "FF1rnKIgodH-"
      },
      "execution_count": 86,
      "outputs": []
    },
    {
      "cell_type": "code",
      "source": [
        "plt.plot(scale.inverse_transform(dset1))\n",
        "plt.plot(predict_train)\n",
        "plt.plot(test_val)\n",
        "# plt.show()"
      ],
      "metadata": {
        "id": "_THKIVbInxot",
        "colab": {
          "base_uri": "https://localhost:8080/",
          "height": 283
        },
        "outputId": "194b2534-8912-47e4-c243-6415efa29ec1"
      },
      "execution_count": 88,
      "outputs": [
        {
          "output_type": "execute_result",
          "data": {
            "text/plain": [
              "[<matplotlib.lines.Line2D at 0x7fba8c94f8d0>]"
            ]
          },
          "metadata": {},
          "execution_count": 88
        },
        {
          "output_type": "display_data",
          "data": {
            "text/plain": [
              "<Figure size 432x288 with 1 Axes>"
            ],
            "image/png": "[encoded data removed]"
          },
          "metadata": {
            "needs_background": "light"
          }
        }
      ]
    },
    {
      "cell_type": "code",
      "source": [
        ""
      ],
      "metadata": {
        "id": "HaqNxYmnOxHR"
      },
      "execution_count": null,
      "outputs": []
    },
    {
      "cell_type": "code",
      "source": [
        ""
      ],
      "metadata": {
        "id": "1zAGmKfeOxJl"
      },
      "execution_count": null,
      "outputs": []
    }
  ]
}